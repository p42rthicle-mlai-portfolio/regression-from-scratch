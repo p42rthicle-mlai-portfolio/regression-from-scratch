{
 "cells": [
  {
   "cell_type": "markdown",
   "id": "6cb2d97b-c626-4527-90b8-d4881182b4f6",
   "metadata": {},
   "source": [
    "## Linear Regression from Scratch\n",
    "\n",
    "This notebook demonstrates a from-scratch implementation of simple linear regression using NumPy. It predicts **Salary** from **Years of Experience**, illustrating fundamental ML concepts such as data normalization and gradient descent."
   ]
  },
  {
   "cell_type": "markdown",
   "id": "b9a5902d-275d-4178-9850-8059e6326dc5",
   "metadata": {},
   "source": [
    "#### Problem Statement\n",
    "> Given a salary dataset with years of experience and the corresponding salary,  \n",
    "> use an ML model to predict the **salary of new employees** based on different years of experience.\n",
    "\n",
    "---\n",
    "\n",
    "#### Dataset Overview\n",
    "We use a simple dataset `Salary_Data.csv` containing:\n",
    "- `YearsExperience` — number of years of professional experience  \n",
    "- `Salary` — annual salary in USD  \n",
    "\n",
    "This dataset helps visualize how a linear model fits the relationship between experience and salary.\n",
    "\n",
    "---\n",
    "\n",
    "##### Sample of the dataset\n",
    "| YearsExperience | Salary |\n",
    "|------------------|--------|\n",
    "| 1.1              | 39343  |\n",
    "| 1.5              | 46205  |\n",
    "| 2.0              | 37731  |\n",
    "| 3.2              | 57081  |\n",
    "| 4.0              | 56957  |\n",
    "\n",
    "---\n",
    "\n",
    "#### Goal\n",
    "Implement linear regression **from scratch** using NumPy:\n",
    "1. Calculate gradients manually  \n",
    "2. Perform gradient descent  \n",
    "3. Visualize training progress and final regression line\n"
   ]
  },
  {
   "cell_type": "markdown",
   "id": "65623e21-09b9-4b37-9bf0-0a7e0cc84886",
   "metadata": {},
   "source": [
    "#### 1: Import Required Libraries\n",
    "\n",
    "Import essential Python libraries for numerical computation, data manipulation, and visualization."
   ]
  },
  {
   "cell_type": "code",
   "execution_count": 1,
   "id": "5ea06251-39b3-4d53-97ab-be386ca336ee",
   "metadata": {},
   "outputs": [],
   "source": [
    "## Import Statements\n",
    "import numpy as np\n",
    "import pandas as pd\n",
    "import matplotlib.pyplot as plt\n",
    "\n",
    "plt.style.use('seaborn-v0_8-darkgrid')\n",
    "%matplotlib inline"
   ]
  },
  {
   "cell_type": "markdown",
   "id": "9bc95733-99f0-49a3-bb92-eac53324308c",
   "metadata": {},
   "source": [
    "#### 2. Load Dataset\n",
    "\n",
    "Load the salary dataset containing years of experience and corresponding salary values."
   ]
  },
  {
   "cell_type": "code",
   "execution_count": 2,
   "id": "80ce89d0-5e7b-44ac-8761-a3a93460fdfb",
   "metadata": {},
   "outputs": [
    {
     "name": "stdout",
     "output_type": "stream",
     "text": [
      "Dataset shape: (30, 2)\n"
     ]
    },
    {
     "data": {
      "text/html": [
       "<div>\n",
       "<style scoped>\n",
       "    .dataframe tbody tr th:only-of-type {\n",
       "        vertical-align: middle;\n",
       "    }\n",
       "\n",
       "    .dataframe tbody tr th {\n",
       "        vertical-align: top;\n",
       "    }\n",
       "\n",
       "    .dataframe thead th {\n",
       "        text-align: right;\n",
       "    }\n",
       "</style>\n",
       "<table border=\"1\" class=\"dataframe\">\n",
       "  <thead>\n",
       "    <tr style=\"text-align: right;\">\n",
       "      <th></th>\n",
       "      <th>YearsExperience</th>\n",
       "      <th>Salary</th>\n",
       "    </tr>\n",
       "  </thead>\n",
       "  <tbody>\n",
       "    <tr>\n",
       "      <th>0</th>\n",
       "      <td>1.1</td>\n",
       "      <td>39343</td>\n",
       "    </tr>\n",
       "    <tr>\n",
       "      <th>1</th>\n",
       "      <td>1.3</td>\n",
       "      <td>46205</td>\n",
       "    </tr>\n",
       "    <tr>\n",
       "      <th>2</th>\n",
       "      <td>1.5</td>\n",
       "      <td>37731</td>\n",
       "    </tr>\n",
       "    <tr>\n",
       "      <th>3</th>\n",
       "      <td>2.0</td>\n",
       "      <td>43525</td>\n",
       "    </tr>\n",
       "    <tr>\n",
       "      <th>4</th>\n",
       "      <td>2.2</td>\n",
       "      <td>39891</td>\n",
       "    </tr>\n",
       "  </tbody>\n",
       "</table>\n",
       "</div>"
      ],
      "text/plain": [
       "   YearsExperience  Salary\n",
       "0              1.1   39343\n",
       "1              1.3   46205\n",
       "2              1.5   37731\n",
       "3              2.0   43525\n",
       "4              2.2   39891"
      ]
     },
     "execution_count": 2,
     "metadata": {},
     "output_type": "execute_result"
    }
   ],
   "source": [
    "## Loading the dataset\n",
    "\n",
    "ds = pd.read_csv(\"../data/Salary_Data.csv\")\n",
    "X = ds[\"YearsExperience\"].values\n",
    "Y = ds[\"Salary\"].values\n",
    "print(\"Dataset shape:\", ds.shape)\n",
    "ds.head()"
   ]
  },
  {
   "cell_type": "code",
   "execution_count": 3,
   "id": "6bcbfdbc-b4c9-4042-8abc-7c038a69243a",
   "metadata": {},
   "outputs": [
    {
     "data": {
      "text/plain": [
       "array([ 1.1,  1.3,  1.5,  2. ,  2.2,  2.9,  3. ,  3.2,  3.2,  3.7,  3.9,\n",
       "        4. ,  4. ,  4.1,  4.5,  4.9,  5.1,  5.3,  5.9,  6. ,  6.8,  7.1,\n",
       "        7.9,  8.2,  8.7,  9. ,  9.5,  9.6, 10.3, 10.5])"
      ]
     },
     "execution_count": 3,
     "metadata": {},
     "output_type": "execute_result"
    }
   ],
   "source": [
    "X"
   ]
  },
  {
   "cell_type": "code",
   "execution_count": 4,
   "id": "2db3f6f4-1bef-4115-ae41-8526027967f2",
   "metadata": {},
   "outputs": [
    {
     "data": {
      "text/plain": [
       "array([ 39343,  46205,  37731,  43525,  39891,  56642,  60150,  54445,\n",
       "        64445,  57189,  63218,  55794,  56957,  57081,  61111,  67938,\n",
       "        66029,  83088,  81363,  93940,  91738,  98273, 101302, 113812,\n",
       "       109431, 105582, 116969, 112635, 122391, 121872])"
      ]
     },
     "execution_count": 4,
     "metadata": {},
     "output_type": "execute_result"
    }
   ],
   "source": [
    "Y"
   ]
  },
  {
   "cell_type": "markdown",
   "id": "907dfda7-cbf5-4d64-9548-9868ab956bb5",
   "metadata": {},
   "source": [
    "#### 3: Visualize the Dataset"
   ]
  },
  {
   "cell_type": "code",
   "execution_count": 6,
   "id": "1c31cfd8-4fa3-4072-a211-96cca0f65b2b",
   "metadata": {},
   "outputs": [
    {
     "data": {
      "image/png": "[encoded data removed]",
      "text/plain": [
       "<Figure size 640x480 with 1 Axes>"
      ]
     },
     "metadata": {},
     "output_type": "display_data"
    }
   ],
   "source": [
    "plt.plot(X, Y, color='skyblue')\n",
    "plt.xlabel('Years of Experience')\n",
    "plt.ylabel('Salary')\n",
    "plt.title('Salary vs Years of Experience')\n",
    "plt.show()"
   ]
  },
  {
   "cell_type": "code",
   "execution_count": 7,
   "id": "0b2986f5-708b-4a42-a33e-64b90cb155dc",
   "metadata": {},
   "outputs": [],
   "source": [
    "## Making them numpy arrays to make it easier to work with\n",
    "\n",
    "X = np.array(X)\n",
    "Y = np.array(Y)"
   ]
  },
  {
   "cell_type": "markdown",
   "id": "47a5f62b-2447-47b9-a878-f6fd7ea9229c",
   "metadata": {},
   "source": [
    "#### 4. Util functions for Linear regression class\n",
    "\n",
    "Define utility functions to compute mean, variance, and normalization for feature scaling."
   ]
  },
  {
   "cell_type": "code",
   "execution_count": 8,
   "id": "b779d80d-30f6-449d-b936-030ee47488c2",
   "metadata": {},
   "outputs": [],
   "source": [
    "def mean(X):\n",
    "    return np.sum(X)/len(X)"
   ]
  },
  {
   "cell_type": "code",
   "execution_count": 9,
   "id": "66574ba2-d277-4cb4-a16d-baf97cc87861",
   "metadata": {},
   "outputs": [],
   "source": [
    "def variance(X):\n",
    "    mean_value = mean(X)\n",
    "    return np.sum((X-mean_value)**2)/len(X)"
   ]
  },
  {
   "cell_type": "code",
   "execution_count": 10,
   "id": "fafeda0d-0421-4923-957c-bdddb0eaf114",
   "metadata": {},
   "outputs": [],
   "source": [
    "def norm(X):\n",
    "    mean_value = mean(X)\n",
    "    variance_value = variance(X)\n",
    "    return (X - mean_value)/np.sqrt(variance_value)"
   ]
  },
  {
   "cell_type": "code",
   "execution_count": 11,
   "id": "5bd5dfb9-c1bd-46aa-acc6-f3934f54d865",
   "metadata": {},
   "outputs": [],
   "source": [
    "# Normalizing X\n",
    "\n",
    "X_norm = norm(X)"
   ]
  },
  {
   "cell_type": "code",
   "execution_count": 12,
   "id": "d6b4e660-c491-4adb-975b-ec070a572760",
   "metadata": {},
   "outputs": [
    {
     "data": {
      "text/plain": [
       "array([-1.51005294, -1.43837321, -1.36669348, -1.18749416, -1.11581443,\n",
       "       -0.86493538, -0.82909552, -0.75741579, -0.75741579, -0.57821647,\n",
       "       -0.50653674, -0.47069688, -0.47069688, -0.43485702, -0.29149756,\n",
       "       -0.1481381 , -0.07645838, -0.00477865,  0.21026054,  0.2461004 ,\n",
       "        0.53281931,  0.6403389 ,  0.92705781,  1.03457741,  1.21377673,\n",
       "        1.32129632,  1.50049564,  1.5363355 ,  1.78721455,  1.85889428])"
      ]
     },
     "execution_count": 12,
     "metadata": {},
     "output_type": "execute_result"
    }
   ],
   "source": [
    "X_norm"
   ]
  },
  {
   "cell_type": "code",
   "execution_count": 13,
   "id": "a3937a7c-8126-47ab-9159-351b270d296c",
   "metadata": {},
   "outputs": [
    {
     "data": {
      "text/plain": [
       "[<matplotlib.lines.Line2D at 0x118126dd0>]"
      ]
     },
     "execution_count": 13,
     "metadata": {},
     "output_type": "execute_result"
    },
    {
     "data": {
      "image/png": "[encoded data removed]",
      "text/plain": [
       "<Figure size 640x480 with 1 Axes>"
      ]
     },
     "metadata": {},
     "output_type": "display_data"
    }
   ],
   "source": [
    "plt.plot(X_norm,Y)"
   ]
  },
  {
   "cell_type": "code",
   "execution_count": 14,
   "id": "8aa55323-f3ff-4996-afe7-bca7b25fcdb3",
   "metadata": {},
   "outputs": [],
   "source": [
    "import random"
   ]
  },
  {
   "cell_type": "markdown",
   "id": "311e35dd-39b2-4662-972c-aff55238b27c",
   "metadata": {},
   "source": [
    "#### 5. Linear Regression core class\n",
    "\n",
    "Implements the Linear Regression algorithm from scratch — including initialization, training using gradient descent, prediction, and visualization"
   ]
  },
  {
   "cell_type": "code",
   "execution_count": 15,
   "id": "e5597888-1361-4b07-a74a-586fa9639578",
   "metadata": {},
   "outputs": [],
   "source": [
    "class SimpleLR:\n",
    "    def __init__(self, lr=0.1, max_iter=2000, threshold=1e-6):\n",
    "        self.lr = lr\n",
    "        self.max_iter = max_iter\n",
    "        self.threshold = threshold\n",
    "        self.weight = random.uniform(-1,1)\n",
    "        self.bias = random.uniform(-1,1)\n",
    "    def predict(self, X):\n",
    "        return self.weight*X + self.bias\n",
    "    def fit(self, X, Y):\n",
    "        n = len(X)\n",
    "        loss_history = []\n",
    "        y_pred = self.predict(X)\n",
    "        errors = Y-y_pred\n",
    "        prev_loss = (1/(2*n)) * np.sum(errors**2)\n",
    "        loss_history.append(prev_loss)\n",
    "        for i in range(self.max_iter):\n",
    "            w_grad = (1/n) * np.sum(errors*X)\n",
    "            b_grad = (1/n) * np.sum(errors)\n",
    "            self.weight += self.lr * w_grad\n",
    "            self.bias += self.lr * b_grad\n",
    "            y_pred = self.predict(X)\n",
    "            errors = Y-y_pred\n",
    "            curr_loss = (1/(2*n)) * np.sum(errors**2)\n",
    "            if np.abs(curr_loss - prev_loss) < self.threshold:\n",
    "                break\n",
    "            prev_loss = curr_loss\n",
    "            loss_history.append(curr_loss)\n",
    "        return loss_history\n",
    "    def plot(self, X, Y):\n",
    "        y_pred = self.predict(X)\n",
    "        plt.plot(X,Y)\n",
    "        plt.plot(X,y_pred)"
   ]
  },
  {
   "cell_type": "markdown",
   "id": "ee46c162-5b00-4b1c-bb1c-21700625244c",
   "metadata": {},
   "source": [
    "6. Instantiate the Simple Linear Regression model with initial parameters."
   ]
  },
  {
   "cell_type": "code",
   "execution_count": 16,
   "id": "0b3382be-8caa-486e-b195-286f4749b712",
   "metadata": {},
   "outputs": [],
   "source": [
    "model = SimpleLR()"
   ]
  },
  {
   "cell_type": "markdown",
   "id": "2eaa2548-ad26-40d1-bd55-514e2f12844c",
   "metadata": {},
   "source": [
    "7. Train the model and record loss across iterations to monitor convergence."
   ]
  },
  {
   "cell_type": "code",
   "execution_count": 18,
   "id": "4b3345ba-4736-4b0d-84d7-91792b88a12a",
   "metadata": {},
   "outputs": [],
   "source": [
    "loss_history = model.fit(X_norm, Y)"
   ]
  },
  {
   "cell_type": "code",
   "execution_count": 19,
   "id": "115f79a6-327e-450f-b1b0-b0be6459abb5",
   "metadata": {},
   "outputs": [
    {
     "data": {
      "text/plain": [
       "[np.float64(3251407968.6498494),\n",
       " np.float64(2636611195.019995),\n",
       " np.float64(2138625808.379812),\n",
       " np.float64(1735257645.2012644),\n",
       " np.float64(1408529433.0266411),\n",
       " np.float64(1143879581.165196),\n",
       " np.float64(929513201.1574255),\n",
       " np.float64(755876433.3511312),\n",
       " np.float64(615230651.4280329),\n",
       " np.float64(501307568.0703234),\n",
       " np.float64(409029870.5505785),\n",
       " np.float64(334284935.55958533),\n",
       " np.float64(273741538.21688074),\n",
       " np.float64(224701386.36929008),\n",
       " np.float64(184978863.37274173),\n",
       " np.float64(152803619.7455374),\n",
       " np.float64(126741672.407502),\n",
       " np.float64(105631495.0636933),\n",
       " np.float64(88532251.41520822),\n",
       " np.float64(74681864.05993532),\n",
       " np.float64(63463050.3021643),\n",
       " np.float64(54375811.1583698),\n",
       " np.float64(47015147.45189618),\n",
       " np.float64(41053009.84965263),\n",
       " np.float64(36223678.39183527),\n",
       " np.float64(32311919.9110033),\n",
       " np.float64(29143395.541529376),\n",
       " np.float64(26576890.802255455),\n",
       " np.float64(24498021.963443585),\n",
       " np.float64(22814138.204006013),\n",
       " np.float64(21450192.358861584),\n",
       " np.float64(20345396.224294584),\n",
       " np.float64(19450511.35529528),\n",
       " np.float64(18725654.61140587),\n",
       " np.float64(18138520.64885546),\n",
       " np.float64(17662942.139189612),\n",
       " np.float64(17277723.546360273),\n",
       " np.float64(16965696.48616851),\n",
       " np.float64(16712954.567413177),\n",
       " np.float64(16508233.613221373),\n",
       " np.float64(16342409.640326),\n",
       " np.float64(16208092.222280744),\n",
       " np.float64(16099295.113664089),\n",
       " np.float64(16011169.455684597),\n",
       " np.float64(15939787.67272122),\n",
       " np.float64(15881968.428520879),\n",
       " np.float64(15835134.840718606),\n",
       " np.float64(15797199.634598766),\n",
       " np.float64(15766472.117641697),\n",
       " np.float64(15741582.828906462),\n",
       " np.float64(15721422.505030926),\n",
       " np.float64(15705092.642691743),\n",
       " np.float64(15691865.454196999),\n",
       " np.float64(15681151.431516273),\n",
       " np.float64(15672473.073144868),\n",
       " np.float64(15665443.602864029),\n",
       " np.float64(15659749.73193656),\n",
       " np.float64(15655137.696485303),\n",
       " np.float64(15651401.947769785),\n",
       " np.float64(15648375.991310224),\n",
       " np.float64(15645924.966577971),\n",
       " np.float64(15643939.636544852),\n",
       " np.float64(15642331.519218022),\n",
       " np.float64(15641028.94418329),\n",
       " np.float64(15639973.858405154),\n",
       " np.float64(15639119.238924865),\n",
       " np.float64(15638426.997145837),\n",
       " np.float64(15637866.281304816),\n",
       " np.float64(15637412.101473587),\n",
       " np.float64(15637044.215810305),\n",
       " np.float64(15636746.228423033),\n",
       " np.float64(15636504.858639352),\n",
       " np.float64(15636309.349114567),\n",
       " np.float64(15636150.986399487),\n",
       " np.float64(15636022.712600278),\n",
       " np.float64(15635918.810822912),\n",
       " np.float64(15635834.650383256),\n",
       " np.float64(15635766.480427124),\n",
       " np.float64(15635711.262762662),\n",
       " np.float64(15635666.536454448),\n",
       " np.float64(15635630.308144804),\n",
       " np.float64(15635600.963213976),\n",
       " np.float64(15635577.19382001),\n",
       " np.float64(15635557.940610902),\n",
       " np.float64(15635542.345511513),\n",
       " np.float64(15635529.71348102),\n",
       " np.float64(15635519.481536312),\n",
       " np.float64(15635511.193661109),\n",
       " np.float64(15635504.480482187),\n",
       " np.float64(15635499.042807264),\n",
       " np.float64(15635494.638290582),\n",
       " np.float64(15635491.070632065),\n",
       " np.float64(15635488.18082866),\n",
       " np.float64(15635485.840087911),\n",
       " np.float64(15635483.944087896),\n",
       " np.float64(15635482.408327881),\n",
       " np.float64(15635481.164362282),\n",
       " np.float64(15635480.156750139),\n",
       " np.float64(15635479.340584299),\n",
       " np.float64(15635478.679489976),\n",
       " np.float64(15635478.144003572),\n",
       " np.float64(15635477.710259587),\n",
       " np.float64(15635477.358926946),\n",
       " np.float64(15635477.074347533),\n",
       " np.float64(15635476.84383819),\n",
       " np.float64(15635476.657125624),\n",
       " np.float64(15635476.505888449),\n",
       " np.float64(15635476.38338633),\n",
       " np.float64(15635476.284159621),\n",
       " np.float64(15635476.203785984),\n",
       " np.float64(15635476.138683343),\n",
       " np.float64(15635476.085950203),\n",
       " np.float64(15635476.043236349),\n",
       " np.float64(15635476.008638125),\n",
       " np.float64(15635475.980613582),\n",
       " np.float64(15635475.957913687),\n",
       " np.float64(15635475.939526778),\n",
       " np.float64(15635475.92463339),\n",
       " np.float64(15635475.912569731),\n",
       " np.float64(15635475.902798187),\n",
       " np.float64(15635475.894883217),\n",
       " np.float64(15635475.88847209),\n",
       " np.float64(15635475.883279085),\n",
       " np.float64(15635475.879072746),\n",
       " np.float64(15635475.87566562),\n",
       " np.float64(15635475.872905843),\n",
       " np.float64(15635475.870670423),\n",
       " np.float64(15635475.868859738),\n",
       " np.float64(15635475.867393075),\n",
       " np.float64(15635475.866205087),\n",
       " np.float64(15635475.865242807),\n",
       " np.float64(15635475.864463368),\n",
       " np.float64(15635475.863832017),\n",
       " np.float64(15635475.863320623),\n",
       " np.float64(15635475.8629064),\n",
       " np.float64(15635475.862570874),\n",
       " np.float64(15635475.862299098),\n",
       " np.float64(15635475.862078957),\n",
       " np.float64(15635475.86190065),\n",
       " np.float64(15635475.861756215),\n",
       " np.float64(15635475.861639231),\n",
       " np.float64(15635475.861544468),\n",
       " np.float64(15635475.861467712),\n",
       " np.float64(15635475.861405531),\n",
       " np.float64(15635475.861355169),\n",
       " np.float64(15635475.861314384),\n",
       " np.float64(15635475.861281343),\n",
       " np.float64(15635475.861254577),\n",
       " np.float64(15635475.861232907),\n",
       " np.float64(15635475.861215338),\n",
       " np.float64(15635475.861201115),\n",
       " np.float64(15635475.861189594),\n",
       " np.float64(15635475.861180263),\n",
       " np.float64(15635475.8611727),\n",
       " np.float64(15635475.861166582),\n",
       " np.float64(15635475.861161621),\n",
       " np.float64(15635475.861157611),\n",
       " np.float64(15635475.861154348),\n",
       " np.float64(15635475.861151716),\n",
       " np.float64(15635475.861149581),\n",
       " np.float64(15635475.861147858),\n",
       " np.float64(15635475.86114646),\n",
       " np.float64(15635475.86114532)]"
      ]
     },
     "execution_count": 19,
     "metadata": {},
     "output_type": "execute_result"
    }
   ],
   "source": [
    "loss_history"
   ]
  },
  {
   "cell_type": "markdown",
   "id": "90f811bb-188f-46a1-a2d8-1eb70520cc89",
   "metadata": {},
   "source": [
    "8. Plot the loss history to see how we reach the well fit model"
   ]
  },
  {
   "cell_type": "code",
   "execution_count": 20,
   "id": "edc2bd7e-4c89-4d32-9e18-3bf9c8e171ff",
   "metadata": {},
   "outputs": [
    {
     "data": {
      "text/plain": [
       "[<matplotlib.lines.Line2D at 0x118125210>]"
      ]
     },
     "execution_count": 20,
     "metadata": {},
     "output_type": "execute_result"
    },
    {
     "data": {
      "image/png": "[encoded data removed]",
      "text/plain": [
       "<Figure size 640x480 with 1 Axes>"
      ]
     },
     "metadata": {},
     "output_type": "display_data"
    }
   ],
   "source": [
    "plt.plot(loss_history)"
   ]
  },
  {
   "cell_type": "markdown",
   "id": "5ca9fae8-99e1-49c7-acc7-74388ab1cb07",
   "metadata": {},
   "source": [
    "#### 9. Model Evaluation\n",
    "\n",
    "Plot predicted regression line over the actual data to visually assess performance."
   ]
  },
  {
   "cell_type": "code",
   "execution_count": 21,
   "id": "753ee980-0bb3-4fc7-ab28-ebb5f2586467",
   "metadata": {},
   "outputs": [
    {
     "data": {
      "image/png": "[encoded data removed]",
      "text/plain": [
       "<Figure size 640x480 with 1 Axes>"
      ]
     },
     "metadata": {},
     "output_type": "display_data"
    }
   ],
   "source": [
    "model.plot(X_norm,Y)"
   ]
  },
  {
   "cell_type": "markdown",
   "id": "c2ea3266-16f3-4e34-ac4a-07d04cec6b57",
   "metadata": {},
   "source": [
    "#### 10. Conclusion\n",
    "\n",
    "This project presents a clean implementation of linear regression from scratch using Salary_Data.csv and the dataset"
   ]
  }
 ],
 "metadata": {
  "kernelspec": {
   "display_name": "Python 3 (ipykernel)",
   "language": "python",
   "name": "python3"
  },
  "language_info": {
   "codemirror_mode": {
    "name": "ipython",
    "version": 3
   },
   "file_extension": ".py",
   "mimetype": "text/x-python",
   "name": "python",
   "nbconvert_exporter": "python",
   "pygments_lexer": "ipython3",
   "version": "3.11.4"
  }
 },
 "nbformat": 4,
 "nbformat_minor": 5
}
